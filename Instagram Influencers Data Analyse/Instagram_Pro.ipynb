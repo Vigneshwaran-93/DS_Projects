{
 "cells": [
  {
   "cell_type": "markdown",
   "id": "7ad524da",
   "metadata": {},
   "source": [
    "### Problem Statement\n",
    "#### Answer the following questions based on the given data set:\n",
    "1. Are there any correlated features in the given dataset? If yes, state the correlation coefficient of the pair of features which are highly correlated.\n",
    "<br>\n",
    "2. What is the frequency distribution of the following features? <br>\n",
    "    - Influence Score\n",
    "    - Followers\n",
    "    - Posts\n",
    "3. Which country houses the highest number of Instagram Influencers? Please show the count of Instagram influencers in different countries using barchart.<br>\n",
    "\n",
    "4. Who are the top 10 influencers in the given dataset based on the following features<br>\n",
    "    - ● Followers\n",
    "    - ● Average likes\n",
    "    - ● Total Likes\n",
    "5. Describe the relationship between the following pairs of features using a suitable graph<br>\n",
    "    - ● Followers and Total Likes\n",
    "    - ● Followers and Influence Score\n",
    "    - ● Posts and Average likes\n",
    "    - ● Posts and Influence Score"
   ]
  },
  {
   "cell_type": "code",
   "execution_count": 2,
   "id": "e4dfda79",
   "metadata": {},
   "outputs": [],
   "source": [
    "#Importing necessory Libraries \n",
    "\n",
    "import pandas as pd\n"
   ]
  },
  {
   "cell_type": "code",
   "execution_count": 3,
   "id": "559f32e5",
   "metadata": {},
   "outputs": [],
   "source": [
    "#Reading File \n",
    "df=pd.read_csv(\"Influencer (1).csv\", encoding='latin')"
   ]
  },
  {
   "cell_type": "code",
   "execution_count": 4,
   "id": "639548ae",
   "metadata": {},
   "outputs": [
    {
     "name": "stdout",
     "output_type": "stream",
     "text": [
      "(200, 10)\n"
     ]
    }
   ],
   "source": [
    "print(df.shape)"
   ]
  },
  {
   "cell_type": "code",
   "execution_count": 5,
   "id": "f465addf",
   "metadata": {},
   "outputs": [
    {
     "data": {
      "text/html": [
       "<div>\n",
       "<style scoped>\n",
       "    .dataframe tbody tr th:only-of-type {\n",
       "        vertical-align: middle;\n",
       "    }\n",
       "\n",
       "    .dataframe tbody tr th {\n",
       "        vertical-align: top;\n",
       "    }\n",
       "\n",
       "    .dataframe thead th {\n",
       "        text-align: right;\n",
       "    }\n",
       "</style>\n",
       "<table border=\"1\" class=\"dataframe\">\n",
       "  <thead>\n",
       "    <tr style=\"text-align: right;\">\n",
       "      <th></th>\n",
       "      <th>ï»¿Rank</th>\n",
       "      <th>Channel Info</th>\n",
       "      <th>Influence Score</th>\n",
       "      <th>Followers</th>\n",
       "      <th>Avg. Likes</th>\n",
       "      <th>Posts</th>\n",
       "      <th>60-Day Eng Rate</th>\n",
       "      <th>New Post Avg. Likes</th>\n",
       "      <th>Total Likes</th>\n",
       "      <th>Country Or Region</th>\n",
       "    </tr>\n",
       "  </thead>\n",
       "  <tbody>\n",
       "    <tr>\n",
       "      <th>0</th>\n",
       "      <td>1</td>\n",
       "      <td>\\ncristiano</td>\n",
       "      <td>92</td>\n",
       "      <td>485.2m</td>\n",
       "      <td>8.7m</td>\n",
       "      <td>3.4k</td>\n",
       "      <td>0.013</td>\n",
       "      <td>6.3m</td>\n",
       "      <td>29.1b</td>\n",
       "      <td>Spain</td>\n",
       "    </tr>\n",
       "    <tr>\n",
       "      <th>1</th>\n",
       "      <td>2</td>\n",
       "      <td>kyliejenner</td>\n",
       "      <td>91</td>\n",
       "      <td>370.7m</td>\n",
       "      <td>8.2m</td>\n",
       "      <td>7.0k</td>\n",
       "      <td>0.014</td>\n",
       "      <td>5.0m</td>\n",
       "      <td>57.4b</td>\n",
       "      <td>United States</td>\n",
       "    </tr>\n",
       "    <tr>\n",
       "      <th>2</th>\n",
       "      <td>3</td>\n",
       "      <td>\\nleomessi</td>\n",
       "      <td>90</td>\n",
       "      <td>363.9m</td>\n",
       "      <td>6.7m</td>\n",
       "      <td>915</td>\n",
       "      <td>0.010</td>\n",
       "      <td>3.5m</td>\n",
       "      <td>6.1b</td>\n",
       "      <td>NaN</td>\n",
       "    </tr>\n",
       "    <tr>\n",
       "      <th>3</th>\n",
       "      <td>4</td>\n",
       "      <td>\\nselenagomez</td>\n",
       "      <td>93</td>\n",
       "      <td>348.8m</td>\n",
       "      <td>6.1m</td>\n",
       "      <td>1.9k</td>\n",
       "      <td>0.005</td>\n",
       "      <td>1.7m</td>\n",
       "      <td>11.4b</td>\n",
       "      <td>United States</td>\n",
       "    </tr>\n",
       "    <tr>\n",
       "      <th>4</th>\n",
       "      <td>5</td>\n",
       "      <td>\\ntherock</td>\n",
       "      <td>91</td>\n",
       "      <td>339.4m</td>\n",
       "      <td>1.8m</td>\n",
       "      <td>6.8k</td>\n",
       "      <td>0.003</td>\n",
       "      <td>932.0k</td>\n",
       "      <td>12.6b</td>\n",
       "      <td>United States</td>\n",
       "    </tr>\n",
       "  </tbody>\n",
       "</table>\n",
       "</div>"
      ],
      "text/plain": [
       "   ï»¿Rank   Channel Info  Influence Score Followers Avg. Likes Posts  \\\n",
       "0        1    \\ncristiano               92    485.2m       8.7m  3.4k   \n",
       "1        2    kyliejenner               91    370.7m       8.2m  7.0k   \n",
       "2        3     \\nleomessi               90    363.9m       6.7m   915   \n",
       "3        4  \\nselenagomez               93    348.8m       6.1m  1.9k   \n",
       "4        5      \\ntherock               91    339.4m       1.8m  6.8k   \n",
       "\n",
       "   60-Day Eng Rate New Post Avg. Likes Total Likes Country Or Region  \n",
       "0            0.013                6.3m       29.1b             Spain  \n",
       "1            0.014                5.0m       57.4b     United States  \n",
       "2            0.010                3.5m        6.1b               NaN  \n",
       "3            0.005                1.7m       11.4b     United States  \n",
       "4            0.003              932.0k       12.6b     United States  "
      ]
     },
     "execution_count": 5,
     "metadata": {},
     "output_type": "execute_result"
    }
   ],
   "source": [
    "df.head()"
   ]
  },
  {
   "cell_type": "code",
   "execution_count": 6,
   "id": "f72fd573",
   "metadata": {},
   "outputs": [
    {
     "name": "stdout",
     "output_type": "stream",
     "text": [
      "ï»¿Rank 0\n",
      "Channel Info 0\n",
      "Influence Score 0\n",
      "Followers 0\n",
      "Avg. Likes 0\n",
      "Posts 0\n",
      "60-Day Eng Rate 0\n",
      "New Post Avg. Likes 0\n",
      "Total Likes 0\n",
      "Country Or Region 63\n"
     ]
    },
    {
     "data": {
      "text/plain": [
       "[None, None, None, None, None, None, None, None, None, None]"
      ]
     },
     "execution_count": 6,
     "metadata": {},
     "output_type": "execute_result"
    }
   ],
   "source": [
    "#Checking for null values \n",
    "[print(i, df[i].isnull().sum()) for i in df.columns]"
   ]
  },
  {
   "cell_type": "code",
   "execution_count": 7,
   "id": "51c4da6b",
   "metadata": {},
   "outputs": [
    {
     "data": {
      "text/html": [
       "<div>\n",
       "<style scoped>\n",
       "    .dataframe tbody tr th:only-of-type {\n",
       "        vertical-align: middle;\n",
       "    }\n",
       "\n",
       "    .dataframe tbody tr th {\n",
       "        vertical-align: top;\n",
       "    }\n",
       "\n",
       "    .dataframe thead th {\n",
       "        text-align: right;\n",
       "    }\n",
       "</style>\n",
       "<table border=\"1\" class=\"dataframe\">\n",
       "  <thead>\n",
       "    <tr style=\"text-align: right;\">\n",
       "      <th></th>\n",
       "      <th>ï»¿Rank</th>\n",
       "      <th>Channel Info</th>\n",
       "      <th>Influence Score</th>\n",
       "      <th>Followers</th>\n",
       "      <th>Avg. Likes</th>\n",
       "      <th>Posts</th>\n",
       "      <th>60-Day Eng Rate</th>\n",
       "      <th>New Post Avg. Likes</th>\n",
       "      <th>Total Likes</th>\n",
       "      <th>Country Or Region</th>\n",
       "    </tr>\n",
       "  </thead>\n",
       "  <tbody>\n",
       "    <tr>\n",
       "      <th>0</th>\n",
       "      <td>1</td>\n",
       "      <td>\\ncristiano</td>\n",
       "      <td>92</td>\n",
       "      <td>485.2m</td>\n",
       "      <td>8.7m</td>\n",
       "      <td>3.4k</td>\n",
       "      <td>0.013</td>\n",
       "      <td>6.3m</td>\n",
       "      <td>29.1b</td>\n",
       "      <td>Spain</td>\n",
       "    </tr>\n",
       "    <tr>\n",
       "      <th>1</th>\n",
       "      <td>2</td>\n",
       "      <td>kyliejenner</td>\n",
       "      <td>91</td>\n",
       "      <td>370.7m</td>\n",
       "      <td>8.2m</td>\n",
       "      <td>7.0k</td>\n",
       "      <td>0.014</td>\n",
       "      <td>5.0m</td>\n",
       "      <td>57.4b</td>\n",
       "      <td>United States</td>\n",
       "    </tr>\n",
       "    <tr>\n",
       "      <th>2</th>\n",
       "      <td>3</td>\n",
       "      <td>\\nleomessi</td>\n",
       "      <td>90</td>\n",
       "      <td>363.9m</td>\n",
       "      <td>6.7m</td>\n",
       "      <td>915</td>\n",
       "      <td>0.010</td>\n",
       "      <td>3.5m</td>\n",
       "      <td>6.1b</td>\n",
       "      <td>United States</td>\n",
       "    </tr>\n",
       "    <tr>\n",
       "      <th>3</th>\n",
       "      <td>4</td>\n",
       "      <td>\\nselenagomez</td>\n",
       "      <td>93</td>\n",
       "      <td>348.8m</td>\n",
       "      <td>6.1m</td>\n",
       "      <td>1.9k</td>\n",
       "      <td>0.005</td>\n",
       "      <td>1.7m</td>\n",
       "      <td>11.4b</td>\n",
       "      <td>United States</td>\n",
       "    </tr>\n",
       "    <tr>\n",
       "      <th>4</th>\n",
       "      <td>5</td>\n",
       "      <td>\\ntherock</td>\n",
       "      <td>91</td>\n",
       "      <td>339.4m</td>\n",
       "      <td>1.8m</td>\n",
       "      <td>6.8k</td>\n",
       "      <td>0.003</td>\n",
       "      <td>932.0k</td>\n",
       "      <td>12.6b</td>\n",
       "      <td>United States</td>\n",
       "    </tr>\n",
       "  </tbody>\n",
       "</table>\n",
       "</div>"
      ],
      "text/plain": [
       "   ï»¿Rank   Channel Info  Influence Score Followers Avg. Likes Posts  \\\n",
       "0        1    \\ncristiano               92    485.2m       8.7m  3.4k   \n",
       "1        2    kyliejenner               91    370.7m       8.2m  7.0k   \n",
       "2        3     \\nleomessi               90    363.9m       6.7m   915   \n",
       "3        4  \\nselenagomez               93    348.8m       6.1m  1.9k   \n",
       "4        5      \\ntherock               91    339.4m       1.8m  6.8k   \n",
       "\n",
       "   60-Day Eng Rate New Post Avg. Likes Total Likes Country Or Region  \n",
       "0            0.013                6.3m       29.1b             Spain  \n",
       "1            0.014                5.0m       57.4b     United States  \n",
       "2            0.010                3.5m        6.1b     United States  \n",
       "3            0.005                1.7m       11.4b     United States  \n",
       "4            0.003              932.0k       12.6b     United States  "
      ]
     },
     "execution_count": 7,
     "metadata": {},
     "output_type": "execute_result"
    }
   ],
   "source": [
    "#Filling NaN with mode \n",
    "x=df[\"Country Or Region\"].mode()\n",
    "df[\"Country Or Region\"].fillna(x[0], inplace=True)\n",
    "df.head()"
   ]
  },
  {
   "cell_type": "code",
   "execution_count": 8,
   "id": "b3117db2",
   "metadata": {},
   "outputs": [
    {
     "name": "stdout",
     "output_type": "stream",
     "text": [
      "0\n",
      "False    200\n",
      "dtype: int64\n"
     ]
    }
   ],
   "source": [
    "#check for null values and duplicates \n",
    "print(df[\"Country Or Region\"].isnull().sum())\n",
    "print(df.duplicated().value_counts())\n",
    "\n"
   ]
  },
  {
   "cell_type": "code",
   "execution_count": 9,
   "id": "02b4e601",
   "metadata": {},
   "outputs": [
    {
     "data": {
      "text/plain": [
       "Index(['ï»¿Rank', 'Channel Info', 'Influence Score', 'Followers', 'Avg. Likes',\n",
       "       'Posts', '60-Day Eng Rate', 'New Post Avg. Likes', 'Total Likes',\n",
       "       'Country Or Region'],\n",
       "      dtype='object')"
      ]
     },
     "execution_count": 9,
     "metadata": {},
     "output_type": "execute_result"
    }
   ],
   "source": [
    "df.columns\n",
    "\n"
   ]
  },
  {
   "cell_type": "code",
   "execution_count": 10,
   "id": "daa7a6c3",
   "metadata": {},
   "outputs": [
    {
     "name": "stdout",
     "output_type": "stream",
     "text": [
      "10000000000.0\n"
     ]
    }
   ],
   "source": [
    "# Removing units in columns \"Followers, Avg. Likes, Posts, 60-Day Eng Rate, New Post Avg. Likes, Total Likes\"\n",
    "\n",
    "def remove_unit(text):\n",
    "    text=str(text)\n",
    "    if text[-1].isalpha()==True and len(text[:-1])>0 and text[-1]==\"k\":\n",
    "        return float(text[:-1])*1000\n",
    "    elif text[-1].isalpha()==True and len(text[:-1])>0 and text[-1]==\"m\":\n",
    "        return float(text[:-1])*1000000\n",
    "    elif text[-1].isalpha()==True and len(text[:-1])>0 and text[-1]==\"b\":\n",
    "        return float(text[:-1])*1000000000\n",
    "    else :\n",
    "        return float(text)\n",
    "x=remove_unit(\"10b\")    \n",
    "print(x)"
   ]
  },
  {
   "cell_type": "code",
   "execution_count": 11,
   "id": "d63cf1af",
   "metadata": {},
   "outputs": [
    {
     "data": {
      "text/html": [
       "<div>\n",
       "<style scoped>\n",
       "    .dataframe tbody tr th:only-of-type {\n",
       "        vertical-align: middle;\n",
       "    }\n",
       "\n",
       "    .dataframe tbody tr th {\n",
       "        vertical-align: top;\n",
       "    }\n",
       "\n",
       "    .dataframe thead th {\n",
       "        text-align: right;\n",
       "    }\n",
       "</style>\n",
       "<table border=\"1\" class=\"dataframe\">\n",
       "  <thead>\n",
       "    <tr style=\"text-align: right;\">\n",
       "      <th></th>\n",
       "      <th>ï»¿Rank</th>\n",
       "      <th>Channel Info</th>\n",
       "      <th>Influence Score</th>\n",
       "      <th>Followers</th>\n",
       "      <th>Avg. Likes</th>\n",
       "      <th>Posts</th>\n",
       "      <th>60-Day Eng Rate</th>\n",
       "      <th>New Post Avg. Likes</th>\n",
       "      <th>Total Likes</th>\n",
       "      <th>Country Or Region</th>\n",
       "    </tr>\n",
       "  </thead>\n",
       "  <tbody>\n",
       "    <tr>\n",
       "      <th>0</th>\n",
       "      <td>1</td>\n",
       "      <td>\\ncristiano</td>\n",
       "      <td>92</td>\n",
       "      <td>485200000.0</td>\n",
       "      <td>8700000.0</td>\n",
       "      <td>3400.0</td>\n",
       "      <td>0.013</td>\n",
       "      <td>6300000.0</td>\n",
       "      <td>2.910000e+10</td>\n",
       "      <td>Spain</td>\n",
       "    </tr>\n",
       "    <tr>\n",
       "      <th>1</th>\n",
       "      <td>2</td>\n",
       "      <td>kyliejenner</td>\n",
       "      <td>91</td>\n",
       "      <td>370700000.0</td>\n",
       "      <td>8200000.0</td>\n",
       "      <td>7000.0</td>\n",
       "      <td>0.014</td>\n",
       "      <td>5000000.0</td>\n",
       "      <td>5.740000e+10</td>\n",
       "      <td>United States</td>\n",
       "    </tr>\n",
       "    <tr>\n",
       "      <th>2</th>\n",
       "      <td>3</td>\n",
       "      <td>\\nleomessi</td>\n",
       "      <td>90</td>\n",
       "      <td>363900000.0</td>\n",
       "      <td>6700000.0</td>\n",
       "      <td>915.0</td>\n",
       "      <td>0.010</td>\n",
       "      <td>3500000.0</td>\n",
       "      <td>6.100000e+09</td>\n",
       "      <td>United States</td>\n",
       "    </tr>\n",
       "    <tr>\n",
       "      <th>3</th>\n",
       "      <td>4</td>\n",
       "      <td>\\nselenagomez</td>\n",
       "      <td>93</td>\n",
       "      <td>348800000.0</td>\n",
       "      <td>6100000.0</td>\n",
       "      <td>1900.0</td>\n",
       "      <td>0.005</td>\n",
       "      <td>1700000.0</td>\n",
       "      <td>1.140000e+10</td>\n",
       "      <td>United States</td>\n",
       "    </tr>\n",
       "    <tr>\n",
       "      <th>4</th>\n",
       "      <td>5</td>\n",
       "      <td>\\ntherock</td>\n",
       "      <td>91</td>\n",
       "      <td>339400000.0</td>\n",
       "      <td>1800000.0</td>\n",
       "      <td>6800.0</td>\n",
       "      <td>0.003</td>\n",
       "      <td>932000.0</td>\n",
       "      <td>1.260000e+10</td>\n",
       "      <td>United States</td>\n",
       "    </tr>\n",
       "  </tbody>\n",
       "</table>\n",
       "</div>"
      ],
      "text/plain": [
       "   ï»¿Rank   Channel Info  Influence Score    Followers  Avg. Likes   Posts  \\\n",
       "0        1    \\ncristiano               92  485200000.0   8700000.0  3400.0   \n",
       "1        2    kyliejenner               91  370700000.0   8200000.0  7000.0   \n",
       "2        3     \\nleomessi               90  363900000.0   6700000.0   915.0   \n",
       "3        4  \\nselenagomez               93  348800000.0   6100000.0  1900.0   \n",
       "4        5      \\ntherock               91  339400000.0   1800000.0  6800.0   \n",
       "\n",
       "   60-Day Eng Rate  New Post Avg. Likes   Total Likes Country Or Region  \n",
       "0            0.013            6300000.0  2.910000e+10             Spain  \n",
       "1            0.014            5000000.0  5.740000e+10     United States  \n",
       "2            0.010            3500000.0  6.100000e+09     United States  \n",
       "3            0.005            1700000.0  1.140000e+10     United States  \n",
       "4            0.003             932000.0  1.260000e+10     United States  "
      ]
     },
     "execution_count": 11,
     "metadata": {},
     "output_type": "execute_result"
    }
   ],
   "source": [
    "for i in ['Followers', 'Avg. Likes','Posts',  'New Post Avg. Likes', 'Total Likes']:\n",
    "    df[i]=df[i].apply(remove_unit)\n",
    "    \n",
    "df.head()"
   ]
  },
  {
   "cell_type": "code",
   "execution_count": 12,
   "id": "8cd2d71b",
   "metadata": {},
   "outputs": [
    {
     "data": {
      "text/html": [
       "<div>\n",
       "<style scoped>\n",
       "    .dataframe tbody tr th:only-of-type {\n",
       "        vertical-align: middle;\n",
       "    }\n",
       "\n",
       "    .dataframe tbody tr th {\n",
       "        vertical-align: top;\n",
       "    }\n",
       "\n",
       "    .dataframe thead th {\n",
       "        text-align: right;\n",
       "    }\n",
       "</style>\n",
       "<table border=\"1\" class=\"dataframe\">\n",
       "  <thead>\n",
       "    <tr style=\"text-align: right;\">\n",
       "      <th></th>\n",
       "      <th>ï»¿Rank</th>\n",
       "      <th>Channel Info</th>\n",
       "      <th>Influence Score</th>\n",
       "      <th>Followers</th>\n",
       "      <th>Avg. Likes</th>\n",
       "      <th>Posts</th>\n",
       "      <th>60-Day Eng Rate</th>\n",
       "      <th>New Post Avg. Likes</th>\n",
       "      <th>Total Likes</th>\n",
       "      <th>Country Or Region</th>\n",
       "    </tr>\n",
       "  </thead>\n",
       "  <tbody>\n",
       "    <tr>\n",
       "      <th>0</th>\n",
       "      <td>1</td>\n",
       "      <td>cristiano</td>\n",
       "      <td>92</td>\n",
       "      <td>485200000.0</td>\n",
       "      <td>8700000.0</td>\n",
       "      <td>3400.0</td>\n",
       "      <td>0.013</td>\n",
       "      <td>6300000.0</td>\n",
       "      <td>2.910000e+10</td>\n",
       "      <td>Spain</td>\n",
       "    </tr>\n",
       "    <tr>\n",
       "      <th>1</th>\n",
       "      <td>2</td>\n",
       "      <td>kyliejenner</td>\n",
       "      <td>91</td>\n",
       "      <td>370700000.0</td>\n",
       "      <td>8200000.0</td>\n",
       "      <td>7000.0</td>\n",
       "      <td>0.014</td>\n",
       "      <td>5000000.0</td>\n",
       "      <td>5.740000e+10</td>\n",
       "      <td>United States</td>\n",
       "    </tr>\n",
       "    <tr>\n",
       "      <th>2</th>\n",
       "      <td>3</td>\n",
       "      <td>leomessi</td>\n",
       "      <td>90</td>\n",
       "      <td>363900000.0</td>\n",
       "      <td>6700000.0</td>\n",
       "      <td>915.0</td>\n",
       "      <td>0.010</td>\n",
       "      <td>3500000.0</td>\n",
       "      <td>6.100000e+09</td>\n",
       "      <td>United States</td>\n",
       "    </tr>\n",
       "    <tr>\n",
       "      <th>3</th>\n",
       "      <td>4</td>\n",
       "      <td>selenagomez</td>\n",
       "      <td>93</td>\n",
       "      <td>348800000.0</td>\n",
       "      <td>6100000.0</td>\n",
       "      <td>1900.0</td>\n",
       "      <td>0.005</td>\n",
       "      <td>1700000.0</td>\n",
       "      <td>1.140000e+10</td>\n",
       "      <td>United States</td>\n",
       "    </tr>\n",
       "    <tr>\n",
       "      <th>4</th>\n",
       "      <td>5</td>\n",
       "      <td>therock</td>\n",
       "      <td>91</td>\n",
       "      <td>339400000.0</td>\n",
       "      <td>1800000.0</td>\n",
       "      <td>6800.0</td>\n",
       "      <td>0.003</td>\n",
       "      <td>932000.0</td>\n",
       "      <td>1.260000e+10</td>\n",
       "      <td>United States</td>\n",
       "    </tr>\n",
       "  </tbody>\n",
       "</table>\n",
       "</div>"
      ],
      "text/plain": [
       "   ï»¿Rank Channel Info  Influence Score    Followers  Avg. Likes   Posts  \\\n",
       "0        1    cristiano               92  485200000.0   8700000.0  3400.0   \n",
       "1        2  kyliejenner               91  370700000.0   8200000.0  7000.0   \n",
       "2        3     leomessi               90  363900000.0   6700000.0   915.0   \n",
       "3        4  selenagomez               93  348800000.0   6100000.0  1900.0   \n",
       "4        5      therock               91  339400000.0   1800000.0  6800.0   \n",
       "\n",
       "   60-Day Eng Rate  New Post Avg. Likes   Total Likes Country Or Region  \n",
       "0            0.013            6300000.0  2.910000e+10             Spain  \n",
       "1            0.014            5000000.0  5.740000e+10     United States  \n",
       "2            0.010            3500000.0  6.100000e+09     United States  \n",
       "3            0.005            1700000.0  1.140000e+10     United States  \n",
       "4            0.003             932000.0  1.260000e+10     United States  "
      ]
     },
     "execution_count": 12,
     "metadata": {},
     "output_type": "execute_result"
    }
   ],
   "source": [
    "df[\"Channel Info\"]=df[\"Channel Info\"].apply(lambda x: x.replace(\"\\n\", \"\"))\n",
    "df.head()"
   ]
  },
  {
   "cell_type": "code",
   "execution_count": 13,
   "id": "ac456809",
   "metadata": {},
   "outputs": [],
   "source": [
    "df.rename(columns = {'ï»¿Rank':'Rank'}, inplace = True)"
   ]
  },
  {
   "cell_type": "code",
   "execution_count": 14,
   "id": "d93b6232",
   "metadata": {},
   "outputs": [],
   "source": [
    "# Model Builing\n",
    "from sklearn.linear_model import LinearRegression\n",
    "from sklearn.metrics import r2_score\n",
    "model = LinearRegression()"
   ]
  },
  {
   "cell_type": "code",
   "execution_count": null,
   "id": "86874684",
   "metadata": {},
   "outputs": [],
   "source": [
    "Finding Correlation between the features, by taking the \n",
    "\n",
    "# Model Builing\n",
    "from sklearn.linear_model import LinearRegression\n",
    "from sklearn.metrics import r2_score\n",
    "model = LinearRegression()\n",
    "from itertools import combinations\n",
    "cols = [x for x in df.columns if x != 'Total Likes']\n",
    "Y = df['Salary']\n",
    "fit_d = {}\n",
    "for i in range(1, len(cols)+1):\n",
    "    for comb in combinations(cols, i):\n",
    "        X = df[list(comb)]\n",
    "        # X = sm.add_constant(X)\n",
    "        model.fit(X,Y)\n",
    "        fit_d[comb] = model.score(X,Y)\n",
    "\n",
    "key_max = max(fit_d, key=fit_d.get)\n",
    "\n",
    "fit_d"
   ]
  },
  {
   "cell_type": "code",
   "execution_count": null,
   "id": "dc4aee99",
   "metadata": {},
   "outputs": [],
   "source": []
  },
  {
   "cell_type": "code",
   "execution_count": null,
   "id": "8ba9b1a5",
   "metadata": {},
   "outputs": [],
   "source": []
  },
  {
   "cell_type": "code",
   "execution_count": 82,
   "id": "3f36733a",
   "metadata": {},
   "outputs": [
    {
     "data": {
      "text/html": [
       "<div>\n",
       "<style scoped>\n",
       "    .dataframe tbody tr th:only-of-type {\n",
       "        vertical-align: middle;\n",
       "    }\n",
       "\n",
       "    .dataframe tbody tr th {\n",
       "        vertical-align: top;\n",
       "    }\n",
       "\n",
       "    .dataframe thead th {\n",
       "        text-align: right;\n",
       "    }\n",
       "</style>\n",
       "<table border=\"1\" class=\"dataframe\">\n",
       "  <thead>\n",
       "    <tr style=\"text-align: right;\">\n",
       "      <th></th>\n",
       "      <th>Rank</th>\n",
       "      <th>Channel Info</th>\n",
       "      <th>Influence Score</th>\n",
       "      <th>Followers</th>\n",
       "      <th>Avg. Likes</th>\n",
       "      <th>Posts</th>\n",
       "      <th>60-Day Eng Rate</th>\n",
       "      <th>New Post Avg. Likes</th>\n",
       "      <th>Total Likes</th>\n",
       "      <th>Country Or Region</th>\n",
       "    </tr>\n",
       "  </thead>\n",
       "  <tbody>\n",
       "    <tr>\n",
       "      <th>0</th>\n",
       "      <td>1</td>\n",
       "      <td>cristiano</td>\n",
       "      <td>92</td>\n",
       "      <td>485200000.0</td>\n",
       "      <td>8700000.0</td>\n",
       "      <td>3400.0</td>\n",
       "      <td>0.013</td>\n",
       "      <td>6300000.0</td>\n",
       "      <td>2.910000e+10</td>\n",
       "      <td>Spain</td>\n",
       "    </tr>\n",
       "    <tr>\n",
       "      <th>1</th>\n",
       "      <td>2</td>\n",
       "      <td>kyliejenner</td>\n",
       "      <td>91</td>\n",
       "      <td>370700000.0</td>\n",
       "      <td>8200000.0</td>\n",
       "      <td>7000.0</td>\n",
       "      <td>0.014</td>\n",
       "      <td>5000000.0</td>\n",
       "      <td>5.740000e+10</td>\n",
       "      <td>United States</td>\n",
       "    </tr>\n",
       "    <tr>\n",
       "      <th>2</th>\n",
       "      <td>3</td>\n",
       "      <td>leomessi</td>\n",
       "      <td>90</td>\n",
       "      <td>363900000.0</td>\n",
       "      <td>6700000.0</td>\n",
       "      <td>915.0</td>\n",
       "      <td>0.010</td>\n",
       "      <td>3500000.0</td>\n",
       "      <td>6.100000e+09</td>\n",
       "      <td>United States</td>\n",
       "    </tr>\n",
       "    <tr>\n",
       "      <th>3</th>\n",
       "      <td>4</td>\n",
       "      <td>selenagomez</td>\n",
       "      <td>93</td>\n",
       "      <td>348800000.0</td>\n",
       "      <td>6100000.0</td>\n",
       "      <td>1900.0</td>\n",
       "      <td>0.005</td>\n",
       "      <td>1700000.0</td>\n",
       "      <td>1.140000e+10</td>\n",
       "      <td>United States</td>\n",
       "    </tr>\n",
       "    <tr>\n",
       "      <th>4</th>\n",
       "      <td>5</td>\n",
       "      <td>therock</td>\n",
       "      <td>91</td>\n",
       "      <td>339400000.0</td>\n",
       "      <td>1800000.0</td>\n",
       "      <td>6800.0</td>\n",
       "      <td>0.003</td>\n",
       "      <td>932000.0</td>\n",
       "      <td>1.260000e+10</td>\n",
       "      <td>United States</td>\n",
       "    </tr>\n",
       "  </tbody>\n",
       "</table>\n",
       "</div>"
      ],
      "text/plain": [
       "   Rank Channel Info  Influence Score    Followers  Avg. Likes   Posts  \\\n",
       "0     1    cristiano               92  485200000.0   8700000.0  3400.0   \n",
       "1     2  kyliejenner               91  370700000.0   8200000.0  7000.0   \n",
       "2     3     leomessi               90  363900000.0   6700000.0   915.0   \n",
       "3     4  selenagomez               93  348800000.0   6100000.0  1900.0   \n",
       "4     5      therock               91  339400000.0   1800000.0  6800.0   \n",
       "\n",
       "   60-Day Eng Rate  New Post Avg. Likes   Total Likes Country Or Region  \n",
       "0            0.013            6300000.0  2.910000e+10             Spain  \n",
       "1            0.014            5000000.0  5.740000e+10     United States  \n",
       "2            0.010            3500000.0  6.100000e+09     United States  \n",
       "3            0.005            1700000.0  1.140000e+10     United States  \n",
       "4            0.003             932000.0  1.260000e+10     United States  "
      ]
     },
     "execution_count": 82,
     "metadata": {},
     "output_type": "execute_result"
    }
   ],
   "source": [
    "df.head()"
   ]
  },
  {
   "cell_type": "markdown",
   "id": "60f02b9d",
   "metadata": {},
   "source": [
    "##### Task 1: Find the correlated between Features"
   ]
  },
  {
   "cell_type": "code",
   "execution_count": 15,
   "id": "e4f0555c",
   "metadata": {
    "scrolled": true
   },
   "outputs": [
    {
     "data": {
      "text/html": [
       "<div>\n",
       "<style scoped>\n",
       "    .dataframe tbody tr th:only-of-type {\n",
       "        vertical-align: middle;\n",
       "    }\n",
       "\n",
       "    .dataframe tbody tr th {\n",
       "        vertical-align: top;\n",
       "    }\n",
       "\n",
       "    .dataframe thead th {\n",
       "        text-align: right;\n",
       "    }\n",
       "</style>\n",
       "<table border=\"1\" class=\"dataframe\">\n",
       "  <thead>\n",
       "    <tr style=\"text-align: right;\">\n",
       "      <th></th>\n",
       "      <th>Rank</th>\n",
       "      <th>Influence Score</th>\n",
       "      <th>Followers</th>\n",
       "      <th>Avg. Likes</th>\n",
       "      <th>Posts</th>\n",
       "      <th>60-Day Eng Rate</th>\n",
       "      <th>New Post Avg. Likes</th>\n",
       "      <th>Total Likes</th>\n",
       "    </tr>\n",
       "  </thead>\n",
       "  <tbody>\n",
       "    <tr>\n",
       "      <th>Rank</th>\n",
       "      <td>1.000000</td>\n",
       "      <td>-0.354843</td>\n",
       "      <td>-0.698193</td>\n",
       "      <td>-0.277699</td>\n",
       "      <td>-0.058132</td>\n",
       "      <td>0.028900</td>\n",
       "      <td>-0.272323</td>\n",
       "      <td>-0.465119</td>\n",
       "    </tr>\n",
       "    <tr>\n",
       "      <th>Influence Score</th>\n",
       "      <td>-0.354843</td>\n",
       "      <td>1.000000</td>\n",
       "      <td>0.365428</td>\n",
       "      <td>0.048502</td>\n",
       "      <td>0.168287</td>\n",
       "      <td>-0.072460</td>\n",
       "      <td>0.040011</td>\n",
       "      <td>0.234987</td>\n",
       "    </tr>\n",
       "    <tr>\n",
       "      <th>Followers</th>\n",
       "      <td>-0.698193</td>\n",
       "      <td>0.365428</td>\n",
       "      <td>1.000000</td>\n",
       "      <td>0.346829</td>\n",
       "      <td>0.069171</td>\n",
       "      <td>-0.107439</td>\n",
       "      <td>0.260764</td>\n",
       "      <td>0.667546</td>\n",
       "    </tr>\n",
       "    <tr>\n",
       "      <th>Avg. Likes</th>\n",
       "      <td>-0.277699</td>\n",
       "      <td>0.048502</td>\n",
       "      <td>0.346829</td>\n",
       "      <td>1.000000</td>\n",
       "      <td>-0.348795</td>\n",
       "      <td>0.789359</td>\n",
       "      <td>0.892784</td>\n",
       "      <td>0.361296</td>\n",
       "    </tr>\n",
       "    <tr>\n",
       "      <th>Posts</th>\n",
       "      <td>-0.058132</td>\n",
       "      <td>0.168287</td>\n",
       "      <td>0.069171</td>\n",
       "      <td>-0.348795</td>\n",
       "      <td>1.000000</td>\n",
       "      <td>-0.334047</td>\n",
       "      <td>-0.285154</td>\n",
       "      <td>0.232038</td>\n",
       "    </tr>\n",
       "    <tr>\n",
       "      <th>60-Day Eng Rate</th>\n",
       "      <td>0.028900</td>\n",
       "      <td>-0.072460</td>\n",
       "      <td>-0.107439</td>\n",
       "      <td>0.789359</td>\n",
       "      <td>-0.334047</td>\n",
       "      <td>1.000000</td>\n",
       "      <td>0.866293</td>\n",
       "      <td>-0.001560</td>\n",
       "    </tr>\n",
       "    <tr>\n",
       "      <th>New Post Avg. Likes</th>\n",
       "      <td>-0.272323</td>\n",
       "      <td>0.040011</td>\n",
       "      <td>0.260764</td>\n",
       "      <td>0.892784</td>\n",
       "      <td>-0.285154</td>\n",
       "      <td>0.866293</td>\n",
       "      <td>1.000000</td>\n",
       "      <td>0.351335</td>\n",
       "    </tr>\n",
       "    <tr>\n",
       "      <th>Total Likes</th>\n",
       "      <td>-0.465119</td>\n",
       "      <td>0.234987</td>\n",
       "      <td>0.667546</td>\n",
       "      <td>0.361296</td>\n",
       "      <td>0.232038</td>\n",
       "      <td>-0.001560</td>\n",
       "      <td>0.351335</td>\n",
       "      <td>1.000000</td>\n",
       "    </tr>\n",
       "  </tbody>\n",
       "</table>\n",
       "</div>"
      ],
      "text/plain": [
       "                         Rank  Influence Score  Followers  Avg. Likes  \\\n",
       "Rank                 1.000000        -0.354843  -0.698193   -0.277699   \n",
       "Influence Score     -0.354843         1.000000   0.365428    0.048502   \n",
       "Followers           -0.698193         0.365428   1.000000    0.346829   \n",
       "Avg. Likes          -0.277699         0.048502   0.346829    1.000000   \n",
       "Posts               -0.058132         0.168287   0.069171   -0.348795   \n",
       "60-Day Eng Rate      0.028900        -0.072460  -0.107439    0.789359   \n",
       "New Post Avg. Likes -0.272323         0.040011   0.260764    0.892784   \n",
       "Total Likes         -0.465119         0.234987   0.667546    0.361296   \n",
       "\n",
       "                        Posts  60-Day Eng Rate  New Post Avg. Likes  \\\n",
       "Rank                -0.058132         0.028900            -0.272323   \n",
       "Influence Score      0.168287        -0.072460             0.040011   \n",
       "Followers            0.069171        -0.107439             0.260764   \n",
       "Avg. Likes          -0.348795         0.789359             0.892784   \n",
       "Posts                1.000000        -0.334047            -0.285154   \n",
       "60-Day Eng Rate     -0.334047         1.000000             0.866293   \n",
       "New Post Avg. Likes -0.285154         0.866293             1.000000   \n",
       "Total Likes          0.232038        -0.001560             0.351335   \n",
       "\n",
       "                     Total Likes  \n",
       "Rank                   -0.465119  \n",
       "Influence Score         0.234987  \n",
       "Followers               0.667546  \n",
       "Avg. Likes              0.361296  \n",
       "Posts                   0.232038  \n",
       "60-Day Eng Rate        -0.001560  \n",
       "New Post Avg. Likes     0.351335  \n",
       "Total Likes             1.000000  "
      ]
     },
     "execution_count": 15,
     "metadata": {},
     "output_type": "execute_result"
    }
   ],
   "source": [
    "df.corr()"
   ]
  },
  {
   "cell_type": "code",
   "execution_count": 57,
   "id": "978cd282",
   "metadata": {},
   "outputs": [
    {
     "name": "stdout",
     "output_type": "stream",
     "text": [
      "+ve corelated features\n",
      "\n",
      "0.02890006865672567  = ('Rank', '60-Day Eng Rate')\n",
      "0.36542828537500954  = ('Influence Score', 'Followers')\n",
      "0.6675458848032391  = ('Followers', 'Total Likes')\n",
      "0.8927840403263658  = ('Avg. Likes', 'New Post Avg. Likes')\n",
      "0.2320383223863833  = ('Posts', 'Total Likes')\n",
      "0.8662931596052071  = ('60-Day Eng Rate', 'New Post Avg. Likes')\n",
      "0.8927840403263648  = ('New Post Avg. Likes', 'Avg. Likes')\n",
      "0.6675458848032381  = ('Total Likes', 'Followers')\n",
      "\n",
      "-ve corelated features\n",
      "\n",
      "-0.4651193641953231  = ('Rank', 'Total Likes')\n",
      "-0.0724603346118342  = ('Influence Score', '60-Day Eng Rate')\n",
      "-0.10743886576910691  = ('Followers', '60-Day Eng Rate')\n",
      "-0.27769904363205694  = ('Avg. Likes', 'Rank')\n",
      "-0.33404743292555533  = ('Posts', '60-Day Eng Rate')\n",
      "-0.10743886576910791  = ('60-Day Eng Rate', 'Followers')\n",
      "-0.27232303356656745  = ('New Post Avg. Likes', 'Rank')\n",
      "-0.0015603601058510343  = ('Total Likes', '60-Day Eng Rate')\n"
     ]
    },
    {
     "data": {
      "text/plain": [
       "[None, None, None, None, None, None, None, None]"
      ]
     },
     "execution_count": 57,
     "metadata": {},
     "output_type": "execute_result"
    }
   ],
   "source": [
    "#finding pair of +ve corelated features \n",
    "df2=df.corr()\n",
    "dic2={}\n",
    "for i in df2.index:\n",
    "    s=df2[i]\n",
    "    c=sorted(s)\n",
    "    val=c[-2]\n",
    "    cols=s[s==val].index[0]\n",
    "    if val in dic2:\n",
    "        val=val-0.000000000000001\n",
    "        dic2[val]=(i,cols)\n",
    "    else:\n",
    "        dic2[val]=(i,cols)\n",
    "print(\"+ve corelated features\\n\")\n",
    "[print(i,\" =\", dic2[i]) for i in dic2.keys()]\n",
    "\n",
    "#finding pair of -ve corelated features \n",
    "dic3={}\n",
    "for i in df2.index:\n",
    "    s=df2[i]\n",
    "    c=sorted(s)\n",
    "    val=c[1]\n",
    "    cols=s[s==val].index[0]\n",
    "    if val in dic3:\n",
    "        val=val-0.000000000000001\n",
    "        dic3[val]=(i,cols)\n",
    "    else:\n",
    "        dic3[val]=(i,cols)\n",
    "print(\"\\n-ve corelated features\\n\")\n",
    "[print(i,\" =\", dic3[i]) for i in dic3.keys()]"
   ]
  },
  {
   "cell_type": "code",
   "execution_count": 59,
   "id": "e106a2eb",
   "metadata": {},
   "outputs": [
    {
     "name": "stdout",
     "output_type": "stream",
     "text": [
      "best +ve pair = ('Avg. Likes', 'New Post Avg. Likes')\n",
      "best -ve pair = ('Rank', 'Total Likes')\n"
     ]
    }
   ],
   "source": [
    "#Getting the best Pair \n",
    "import numpy as np\n",
    "\n",
    "max1=np.array(list(dic2.keys())).max()\n",
    "print(\"best +ve pair =\",dic2[max1])\n",
    "\n",
    "min1=np.array(list(dic3.keys())).min()\n",
    "print(\"best -ve pair =\",dic3[min1])\n"
   ]
  },
  {
   "cell_type": "markdown",
   "id": "d07b9494",
   "metadata": {},
   "source": [
    "#### Task 2 : Frequency distribution of the following features\n",
    "    -Influence Score\n",
    "    -Followers\n",
    "    -Posts"
   ]
  },
  {
   "cell_type": "code",
   "execution_count": 64,
   "id": "e9e0b324",
   "metadata": {},
   "outputs": [
    {
     "data": {
      "text/plain": [
       "<AxesSubplot:>"
      ]
     },
     "execution_count": 64,
     "metadata": {},
     "output_type": "execute_result"
    },
    {
     "data": {
      "image/png": "[encoded data removed]",
      "text/plain": [
       "<Figure size 432x288 with 1 Axes>"
      ]
     },
     "metadata": {
      "needs_background": "light"
     },
     "output_type": "display_data"
    }
   ],
   "source": [
    "df[\"Influence Score\"].value_counts().plot(kind=\"bar\")\n"
   ]
  },
  {
   "cell_type": "code",
   "execution_count": 76,
   "id": "880eb9ea",
   "metadata": {},
   "outputs": [
    {
     "data": {
      "text/plain": [
       "<AxesSubplot:>"
      ]
     },
     "execution_count": 76,
     "metadata": {},
     "output_type": "execute_result"
    },
    {
     "data": {
      "image/png": "[encoded data removed]",
      "text/plain": [
       "<Figure size 432x288 with 1 Axes>"
      ]
     },
     "metadata": {
      "needs_background": "light"
     },
     "output_type": "display_data"
    }
   ],
   "source": [
    "k=df[\"Followers\"].value_counts()\n",
    "k.iloc[:15].plot(kind=\"bar\")"
   ]
  },
  {
   "cell_type": "code",
   "execution_count": 78,
   "id": "fc644bac",
   "metadata": {},
   "outputs": [
    {
     "data": {
      "text/plain": [
       "<AxesSubplot:>"
      ]
     },
     "execution_count": 78,
     "metadata": {},
     "output_type": "execute_result"
    },
    {
     "data": {
      "image/png": "[encoded data removed]",
      "text/plain": [
       "<Figure size 432x288 with 1 Axes>"
      ]
     },
     "metadata": {
      "needs_background": "light"
     },
     "output_type": "display_data"
    }
   ],
   "source": [
    "k=df[\"Posts\"].value_counts()\n",
    "k.iloc[:15].plot(kind=\"bar\")"
   ]
  },
  {
   "cell_type": "code",
   "execution_count": 79,
   "id": "d9244b56",
   "metadata": {},
   "outputs": [
    {
     "data": {
      "text/plain": [
       "<AxesSubplot:>"
      ]
     },
     "execution_count": 79,
     "metadata": {},
     "output_type": "execute_result"
    },
    {
     "data": {
      "image/png": "[encoded data removed]",
      "text/plain": [
       "<Figure size 432x288 with 1 Axes>"
      ]
     },
     "metadata": {
      "needs_background": "light"
     },
     "output_type": "display_data"
    }
   ],
   "source": [
    "k=df[\"Country Or Region\"].value_counts()\n",
    "k.iloc[:15].plot(kind=\"bar\")"
   ]
  },
  {
   "cell_type": "code",
   "execution_count": 95,
   "id": "751b0eed",
   "metadata": {},
   "outputs": [
    {
     "data": {
      "text/plain": [
       "0          cristiano\n",
       "1        kyliejenner\n",
       "2           leomessi\n",
       "3        selenagomez\n",
       "4            therock\n",
       "5       arianagrande\n",
       "6      kimkardashian\n",
       "7            beyonce\n",
       "8    khloekardashian\n",
       "9       justinbieber\n",
       "Name: Channel Info, dtype: object"
      ]
     },
     "execution_count": 95,
     "metadata": {},
     "output_type": "execute_result"
    }
   ],
   "source": [
    "# Top 10 influencers in the given dataset based on Avg. Likes\n",
    "print(\"Top 10 influencers in the given dataset based on Avg. Likes\")\n",
    "[print(i,\"=>\", df.sort_values(\"Avg. Likes\", ascending=False)[\"Channel Info\"].head(10).iloc[i-1]) for i in range(1,11)]"
   ]
  },
  {
   "cell_type": "code",
   "execution_count": 122,
   "id": "69a2c969",
   "metadata": {},
   "outputs": [
    {
     "name": "stdout",
     "output_type": "stream",
     "text": [
      "Top 10 influencers in the given dataset based on Followers\n",
      "1 => cristiano\n",
      "2 => kyliejenner\n",
      "3 => leomessi\n",
      "4 => selenagomez\n",
      "5 => therock\n",
      "6 => arianagrande\n",
      "7 => kimkardashian\n",
      "8 => beyonce\n",
      "9 => khloekardashian\n",
      "10 => justinbieber\n"
     ]
    },
    {
     "data": {
      "text/plain": [
       "[None, None, None, None, None, None, None, None, None, None]"
      ]
     },
     "execution_count": 122,
     "metadata": {},
     "output_type": "execute_result"
    }
   ],
   "source": [
    "# Top 10 influencers in the given dataset based on Followers\n",
    "print(\"Top 10 influencers in the given dataset based on Followers\")\n",
    "[print(i,\"=>\", df.sort_values(\"Followers\", ascending=False)[\"Channel Info\"].head(10).iloc[i-1]) for i in range(1,11)]"
   ]
  },
  {
   "cell_type": "code",
   "execution_count": 123,
   "id": "bde43016",
   "metadata": {},
   "outputs": [
    {
     "name": "stdout",
     "output_type": "stream",
     "text": [
      "Top 10 influencers in the given dataset based on Total Likes\n",
      "1 => kyliejenner\n",
      "2 => cristiano\n",
      "3 => zendaya\n",
      "4 => kimkardashian\n",
      "5 => arianagrande\n",
      "6 => badgalriri\n",
      "7 => neymarjr\n",
      "8 => justinbieber\n",
      "9 => nickiminaj\n",
      "10 => therock\n"
     ]
    },
    {
     "data": {
      "text/plain": [
       "[None, None, None, None, None, None, None, None, None, None]"
      ]
     },
     "execution_count": 123,
     "metadata": {},
     "output_type": "execute_result"
    }
   ],
   "source": [
    "# Top 10 influencers in the given dataset based on Total Likes\n",
    "print(\"Top 10 influencers in the given dataset based on Total Likes\")\n",
    "[print(i,\"=>\", df.sort_values(\"Total Likes\", ascending=False)[\"Channel Info\"].head(10).iloc[i-1]) for i in range(1,11)]"
   ]
  },
  {
   "cell_type": "code",
   "execution_count": 126,
   "id": "e7baa801",
   "metadata": {},
   "outputs": [
    {
     "data": {
      "text/plain": [
       "<AxesSubplot:xlabel='Followers', ylabel='Total Likes'>"
      ]
     },
     "execution_count": 126,
     "metadata": {},
     "output_type": "execute_result"
    },
    {
     "data": {
      "image/png": "[encoded data removed]",
      "text/plain": [
       "<Figure size 432x288 with 1 Axes>"
      ]
     },
     "metadata": {},
     "output_type": "display_data"
    }
   ],
   "source": [
    "# Relationship between Followers and Total Likes\n",
    "import seaborn\n",
    "seaborn.set(style='whitegrid')\n",
    "data = df[[\"Followers\", \"Total Likes\"]]\n",
    " \n",
    "seaborn.scatterplot(x=\"Followers\",\n",
    "                    y=\"Total Likes\",\n",
    "                    data=data)"
   ]
  },
  {
   "cell_type": "code",
   "execution_count": 127,
   "id": "86602062",
   "metadata": {},
   "outputs": [
    {
     "data": {
      "text/plain": [
       "<AxesSubplot:xlabel='Influence Score', ylabel='Followers'>"
      ]
     },
     "execution_count": 127,
     "metadata": {},
     "output_type": "execute_result"
    },
    {
     "data": {
      "image/png": "[encoded data removed]",
      "text/plain": [
       "<Figure size 432x288 with 1 Axes>"
      ]
     },
     "metadata": {},
     "output_type": "display_data"
    }
   ],
   "source": [
    "# Relationship between Followers and Influence Score\n",
    "import seaborn\n",
    "seaborn.set(style='whitegrid')\n",
    "data = df[[\"Followers\", \"Influence Score\"]]\n",
    " \n",
    "seaborn.scatterplot(x=\"Influence Score\",\n",
    "                    y=\"Followers\",\n",
    "                    data=data)"
   ]
  },
  {
   "cell_type": "code",
   "execution_count": 128,
   "id": "c99b2bb6",
   "metadata": {},
   "outputs": [
    {
     "data": {
      "text/plain": [
       "<AxesSubplot:xlabel='Posts', ylabel='Avg. Likes'>"
      ]
     },
     "execution_count": 128,
     "metadata": {},
     "output_type": "execute_result"
    },
    {
     "data": {
      "image/png": "[encoded data removed]",
      "text/plain": [
       "<Figure size 432x288 with 1 Axes>"
      ]
     },
     "metadata": {},
     "output_type": "display_data"
    }
   ],
   "source": [
    "# Relationship between  Posts and Average likes\n",
    "import seaborn\n",
    "seaborn.set(style='whitegrid')\n",
    "data = df[[\"Posts\", \"Avg. Likes\"]]\n",
    " \n",
    "seaborn.scatterplot(x=\"Posts\",\n",
    "                    y=\"Avg. Likes\",\n",
    "                    data=data)"
   ]
  },
  {
   "cell_type": "code",
   "execution_count": 129,
   "id": "4b7055ed",
   "metadata": {},
   "outputs": [
    {
     "data": {
      "text/plain": [
       "<AxesSubplot:xlabel='Posts', ylabel='Influence Score'>"
      ]
     },
     "execution_count": 129,
     "metadata": {},
     "output_type": "execute_result"
    },
    {
     "data": {
      "image/png": "[encoded data removed]",
      "text/plain": [
       "<Figure size 432x288 with 1 Axes>"
      ]
     },
     "metadata": {},
     "output_type": "display_data"
    }
   ],
   "source": [
    "# Relationship between  Posts and Influence Score\n",
    "import seaborn\n",
    "seaborn.set(style='whitegrid')\n",
    "data = df[[\"Posts\", \"Influence Score\"]]\n",
    " \n",
    "seaborn.scatterplot(x=\"Posts\",\n",
    "                    y=\"Influence Score\",\n",
    "                    data=data)"
   ]
  },
  {
   "cell_type": "code",
   "execution_count": null,
   "id": "cd59a232",
   "metadata": {},
   "outputs": [],
   "source": []
  }
 ],
 "metadata": {
  "kernelspec": {
   "display_name": "Python 3 (ipykernel)",
   "language": "python",
   "name": "python3"
  },
  "language_info": {
   "codemirror_mode": {
    "name": "ipython",
    "version": 3
   },
   "file_extension": ".py",
   "mimetype": "text/x-python",
   "name": "python",
   "nbconvert_exporter": "python",
   "pygments_lexer": "ipython3",
   "version": "3.10.5"
  }
 },
 "nbformat": 4,
 "nbformat_minor": 5
}
